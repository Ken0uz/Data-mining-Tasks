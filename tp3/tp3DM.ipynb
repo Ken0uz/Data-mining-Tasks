{
 "cells": [
  {
   "cell_type": "code",
   "execution_count": 5,
   "metadata": {},
   "outputs": [],
   "source": [
    "import numpy as np\n",
    "import pandas as pd\n",
    "import math"
   ]
  },
  {
   "cell_type": "markdown",
   "metadata": {},
   "source": [
    "### discrétisation en intervalles de largeur égale"
   ]
  },
  {
   "cell_type": "code",
   "execution_count": null,
   "metadata": {},
   "outputs": [],
   "source": [
    "def discretize_equal_width(data, column):\n",
    "    # Nombre de valeurs dans la colonne\n",
    "    n = len(data[column])\n",
    "\n",
    "    # Calcul de K ( number of intervals to use) avec la formule de Huntsberger\n",
    "    K = int(1 + (10 / 3) * math.log10(n))\n",
    "\n",
    "\n",
    "    # Definir la largeur des intervalles\n",
    "    min_val, max_val = data[column].min(), data[column].max()\n",
    "    interval_width = (max_val - min_val) / K\n",
    "    \n",
    "    # Création des intervalles ( on utilise un tableau np)\n",
    "    intervals = np.arange(min_val, max_val, interval_width)\n",
    "    # Discrétisation des valeurs\n",
    "    data[f'{column}_discretized'] = pd.cut(data[column], bins=np.append(intervals, max_val), labels=False)\n",
    "    return data\n"
   ]
  },
  {
   "cell_type": "markdown",
   "metadata": {},
   "source": [
    "- pd.cut() est une fonction de Pandas qui divise les valeurs d'une colonne en différentes catégories (ou \"bins\") selon les intervalles spécifiés dans l'argument bins."
   ]
  },
  {
   "cell_type": "markdown",
   "metadata": {},
   "source": [
    "### Remplacer les valeurs discrétisées par la moyenne de chaque intervalle"
   ]
  },
  {
   "cell_type": "code",
   "execution_count": null,
   "metadata": {},
   "outputs": [],
   "source": [
    "def replace_with_interval_mean(data, column):\n",
    "\n",
    "    # Vérification de la colonne discrétisée\n",
    "    discretized_column = f'{column}_discretized'\n",
    "    if discretized_column not in data.columns:\n",
    "        raise ValueError(f\"La colonne discrétisée {discretized_column} n'existe pas.\")\n",
    "    \n",
    "    # Calcul des moyennes par intervalle\n",
    "    means = data.groupby(discretized_column)[column].mean()\n",
    "    \n",
    "    # Remplacement par les moyennes\n",
    "    data[f'{column}_discretized_mean'] = data[discretized_column].map(means)\n",
    "    return data\n"
   ]
  },
  {
   "cell_type": "markdown",
   "metadata": {},
   "source": [
    "### Fonction pour la normalisation Min-Max"
   ]
  },
  {
   "cell_type": "code",
   "execution_count": 4,
   "metadata": {},
   "outputs": [],
   "source": [
    "def min_max_normalize(data, column, new_min=0, new_max=1):\n",
    "    old_min, old_max = data[column].min(), data[column].max()\n",
    "    data[f'{column}_normalized'] = (data[column] - old_min) / (old_max - old_min) * (new_max - new_min) + new_min\n",
    "    return data\n"
   ]
  },
  {
   "cell_type": "markdown",
   "metadata": {},
   "source": [
    "## Application sur Le dataSet"
   ]
  },
  {
   "cell_type": "code",
   "execution_count": 7,
   "metadata": {},
   "outputs": [],
   "source": [
    "# Chargement du dataset\n",
    "data = pd.read_csv(\"DatasetExos.csv\", delimiter=\";\")"
   ]
  },
  {
   "cell_type": "code",
   "execution_count": 9,
   "metadata": {},
   "outputs": [
    {
     "name": "stdout",
     "output_type": "stream",
     "text": [
      "ep (ms)       11\n",
      "Acc_x         22\n",
      "Acc_y       1347\n",
      "Acc_z         11\n",
      "Gyro_x      1609\n",
      "Gyro_y      1956\n",
      "Gyro_z      1749\n",
      "ID             2\n",
      "Label          0\n",
      "Category       4\n",
      "Set            6\n",
      "dtype: int64\n"
     ]
    }
   ],
   "source": [
    "# Convertir les colonnes d'accélération et de gyroscope en numérique\n",
    "numeric_columns = ['Acc_x', 'Acc_y', 'Acc_z', 'Gyro_x', 'Gyro_y', 'Gyro_z']\n",
    "\n",
    "for column in numeric_columns:\n",
    "    data[column] = pd.to_numeric(data[column], errors='coerce')\n",
    "\n",
    "# Vérifiez les valeurs NaN après la conversion\n",
    "print(data.isnull().sum())\n",
    "\n",
    "# Supprimer les lignes avec des valeurs NaN dans les colonnes pertinentes\n",
    "data.dropna(subset=numeric_columns, inplace=True)"
   ]
  },
  {
   "cell_type": "code",
   "execution_count": 11,
   "metadata": {},
   "outputs": [
    {
     "name": "stdout",
     "output_type": "stream",
     "text": [
      "                   ep (ms)   Acc_x     Acc_y   Acc_z    Gyro_x   Gyro_y  \\\n",
      "1  2019-01-11 15:08:05.400 -0.0015  0.970500 -0.0795  -16.8260  -0.8904   \n",
      "3  2019-01-11 15:08:05.800 -0.0240  0.957000 -0.0735    8.0610 -45.2440   \n",
      "4  2019-01-11 15:08:06.000 -0.0280  0.957667 -0.1150    2.4390 -15.4860   \n",
      "5  2019-01-11 15:08:06.200 -0.0260  0.965000 -0.1180    0.4634  52.1940   \n",
      "7  2019-01-11 15:08:06.600 -0.1700  0.899500 -0.2500  175.2460  15.9760   \n",
      "\n",
      "    Gyro_z ID  Label Category   Set  Acc_x_discretized  \\\n",
      "1   21.708  B  bench    heavy  30.0                0.0   \n",
      "3   -2.073  B  bench    heavy  30.0                0.0   \n",
      "4  -36.098  B  bench    heavy  30.0                0.0   \n",
      "5  -64.636  B  bench    heavy  30.0                0.0   \n",
      "7 -175.854  B  bench    heavy  30.0                0.0   \n",
      "\n",
      "   Acc_x_discretized_mean  Acc_x_normalized  \n",
      "1               -0.121508          0.071136  \n",
      "3               -0.121508          0.069069  \n",
      "4               -0.121508          0.068701  \n",
      "5               -0.121508          0.068885  \n",
      "7               -0.121508          0.055650  \n",
      "                      ep (ms)     Acc_x      Acc_y   Acc_z   Gyro_x  Gyro_y  \\\n",
      "8986  2019-01-20 17:33:23.400 -0.051500  -1.055000 -0.0860   -1.378 -64.148   \n",
      "8988  2019-01-20 17:33:23.800  0.001500 -12.685000 -0.0030  426.828  -0.439   \n",
      "8999  2019-01-20 17:33:26.000  0.023333  -0.483667  0.2000  -87.926  93.658   \n",
      "9004  2019-01-20 17:33:27.000 -0.048000 -10.415000 -0.0765   14.146 -56.218   \n",
      "9008  2019-01-20 17:33:27.800 -0.044000  -1.034000 -0.0590    1.098  -4.024   \n",
      "\n",
      "       Gyro_z ID Label Category   Set  Acc_x_discretized  \\\n",
      "8986   6.0610  E   row   medium  40.0                0.0   \n",
      "8988 -22.2440  E   row   medium  40.0                0.0   \n",
      "8999   0.1342  E   row   medium  40.0                0.0   \n",
      "9004   0.2926  E   row   medium  40.0                0.0   \n",
      "9008   0.9760  E   row   medium  40.0                0.0   \n",
      "\n",
      "      Acc_x_discretized_mean  Acc_x_normalized  \n",
      "8986               -0.121508          0.066541  \n",
      "8988               -0.121508          0.071412  \n",
      "8999               -0.121508          0.073419  \n",
      "9004               -0.121508          0.066863  \n",
      "9008               -0.121508          0.067230  \n"
     ]
    }
   ],
   "source": [
    "# Discrétisation en intervalles de largeur égale\n",
    "data = discretize_equal_width(data, 'Acc_x')\n",
    "\n",
    "# Remplacement par la moyenne des intervalles\n",
    "data = replace_with_interval_mean(data, 'Acc_x')\n",
    "\n",
    "# Normalisation Min-Max\n",
    "data = min_max_normalize(data, 'Acc_x')\n",
    "\n",
    "# Affichage du dataset mis à jour\n",
    "print(data.head())\n",
    "print(data.tail())\n"
   ]
  },
  {
   "cell_type": "code",
   "execution_count": 12,
   "metadata": {},
   "outputs": [
    {
     "name": "stdout",
     "output_type": "stream",
     "text": [
      "                   ep (ms)   Acc_x     Acc_y   Acc_z    Gyro_x   Gyro_y  \\\n",
      "1  2019-01-11 15:08:05.400 -0.0015  0.970500 -0.0795  -16.8260  -0.8904   \n",
      "3  2019-01-11 15:08:05.800 -0.0240  0.957000 -0.0735    8.0610 -45.2440   \n",
      "4  2019-01-11 15:08:06.000 -0.0280  0.957667 -0.1150    2.4390 -15.4860   \n",
      "5  2019-01-11 15:08:06.200 -0.0260  0.965000 -0.1180    0.4634  52.1940   \n",
      "7  2019-01-11 15:08:06.600 -0.1700  0.899500 -0.2500  175.2460  15.9760   \n",
      "\n",
      "    Gyro_z ID  Label Category   Set  Acc_x_discretized  \\\n",
      "1   21.708  B  bench    heavy  30.0                0.0   \n",
      "3   -2.073  B  bench    heavy  30.0                0.0   \n",
      "4  -36.098  B  bench    heavy  30.0                0.0   \n",
      "5  -64.636  B  bench    heavy  30.0                0.0   \n",
      "7 -175.854  B  bench    heavy  30.0                0.0   \n",
      "\n",
      "   Acc_x_discretized_mean  Acc_x_normalized  Acc_z_discretized  \\\n",
      "1               -0.121508          0.071136                3.0   \n",
      "3               -0.121508          0.069069                3.0   \n",
      "4               -0.121508          0.068701                3.0   \n",
      "5               -0.121508          0.068885                3.0   \n",
      "7               -0.121508          0.055650                2.0   \n",
      "\n",
      "   Acc_z_discretized_mean  Acc_z_normalized  \n",
      "1               -0.106741          0.287338  \n",
      "3               -0.106741          0.291127  \n",
      "4               -0.106741          0.264919  \n",
      "5               -0.106741          0.263025  \n",
      "7               -0.213336          0.179665  \n",
      "                      ep (ms)     Acc_x      Acc_y   Acc_z   Gyro_x  Gyro_y  \\\n",
      "8986  2019-01-20 17:33:23.400 -0.051500  -1.055000 -0.0860   -1.378 -64.148   \n",
      "8988  2019-01-20 17:33:23.800  0.001500 -12.685000 -0.0030  426.828  -0.439   \n",
      "8999  2019-01-20 17:33:26.000  0.023333  -0.483667  0.2000  -87.926  93.658   \n",
      "9004  2019-01-20 17:33:27.000 -0.048000 -10.415000 -0.0765   14.146 -56.218   \n",
      "9008  2019-01-20 17:33:27.800 -0.044000  -1.034000 -0.0590    1.098  -4.024   \n",
      "\n",
      "       Gyro_z ID Label Category   Set  Acc_x_discretized  \\\n",
      "8986   6.0610  E   row   medium  40.0                0.0   \n",
      "8988 -22.2440  E   row   medium  40.0                0.0   \n",
      "8999   0.1342  E   row   medium  40.0                0.0   \n",
      "9004   0.2926  E   row   medium  40.0                0.0   \n",
      "9008   0.9760  E   row   medium  40.0                0.0   \n",
      "\n",
      "      Acc_x_discretized_mean  Acc_x_normalized  Acc_z_discretized  \\\n",
      "8986               -0.121508          0.066541                3.0   \n",
      "8988               -0.121508          0.071412                4.0   \n",
      "8999               -0.121508          0.073419                6.0   \n",
      "9004               -0.121508          0.066863                3.0   \n",
      "9008               -0.121508          0.067230                3.0   \n",
      "\n",
      "      Acc_z_discretized_mean  Acc_z_normalized  \n",
      "8986               -0.106741          0.283233  \n",
      "8988                0.006077          0.335649  \n",
      "8999                0.255458          0.463846  \n",
      "9004               -0.106741          0.289233  \n",
      "9008               -0.106741          0.300284  \n"
     ]
    }
   ],
   "source": [
    "# Discrétisation en intervalles de largeur égale\n",
    "data = discretize_equal_width(data, 'Acc_z')\n",
    "\n",
    "# Remplacement par la moyenne des intervalles\n",
    "data = replace_with_interval_mean(data, 'Acc_z')\n",
    "\n",
    "# Normalisation Min-Max\n",
    "data = min_max_normalize(data, 'Acc_z')\n",
    "\n",
    "# Affichage du dataset mis à jour\n",
    "print(data.head())\n",
    "print(data.tail())\n"
   ]
  },
  {
   "cell_type": "code",
   "execution_count": 13,
   "metadata": {},
   "outputs": [
    {
     "name": "stdout",
     "output_type": "stream",
     "text": [
      "                   ep (ms)   Acc_x     Acc_y   Acc_z    Gyro_x   Gyro_y  \\\n",
      "1  2019-01-11 15:08:05.400 -0.0015  0.970500 -0.0795  -16.8260  -0.8904   \n",
      "3  2019-01-11 15:08:05.800 -0.0240  0.957000 -0.0735    8.0610 -45.2440   \n",
      "4  2019-01-11 15:08:06.000 -0.0280  0.957667 -0.1150    2.4390 -15.4860   \n",
      "5  2019-01-11 15:08:06.200 -0.0260  0.965000 -0.1180    0.4634  52.1940   \n",
      "7  2019-01-11 15:08:06.600 -0.1700  0.899500 -0.2500  175.2460  15.9760   \n",
      "\n",
      "    Gyro_z ID  Label Category   Set  Acc_x_discretized  \\\n",
      "1   21.708  B  bench    heavy  30.0                0.0   \n",
      "3   -2.073  B  bench    heavy  30.0                0.0   \n",
      "4  -36.098  B  bench    heavy  30.0                0.0   \n",
      "5  -64.636  B  bench    heavy  30.0                0.0   \n",
      "7 -175.854  B  bench    heavy  30.0                0.0   \n",
      "\n",
      "   Acc_x_discretized_mean  Acc_x_normalized  Acc_z_discretized  \\\n",
      "1               -0.121508          0.071136                3.0   \n",
      "3               -0.121508          0.069069                3.0   \n",
      "4               -0.121508          0.068701                3.0   \n",
      "5               -0.121508          0.068885                3.0   \n",
      "7               -0.121508          0.055650                2.0   \n",
      "\n",
      "   Acc_z_discretized_mean  Acc_z_normalized  Gyro_z_discretized  \\\n",
      "1               -0.106741          0.287338                 6.0   \n",
      "3               -0.106741          0.291127                 6.0   \n",
      "4               -0.106741          0.264919                 6.0   \n",
      "5               -0.106741          0.263025                 5.0   \n",
      "7               -0.213336          0.179665                 5.0   \n",
      "\n",
      "   Gyro_z_discretized_mean  Gyro_z_normalized  \n",
      "1                 3.265069           0.509480  \n",
      "3                 3.265069           0.494634  \n",
      "4                 3.265069           0.473392  \n",
      "5              -104.514077           0.455576  \n",
      "7              -104.514077           0.386145  \n",
      "                      ep (ms)     Acc_x      Acc_y   Acc_z   Gyro_x  Gyro_y  \\\n",
      "8986  2019-01-20 17:33:23.400 -0.051500  -1.055000 -0.0860   -1.378 -64.148   \n",
      "8988  2019-01-20 17:33:23.800  0.001500 -12.685000 -0.0030  426.828  -0.439   \n",
      "8999  2019-01-20 17:33:26.000  0.023333  -0.483667  0.2000  -87.926  93.658   \n",
      "9004  2019-01-20 17:33:27.000 -0.048000 -10.415000 -0.0765   14.146 -56.218   \n",
      "9008  2019-01-20 17:33:27.800 -0.044000  -1.034000 -0.0590    1.098  -4.024   \n",
      "\n",
      "       Gyro_z ID Label Category   Set  Acc_x_discretized  \\\n",
      "8986   6.0610  E   row   medium  40.0                0.0   \n",
      "8988 -22.2440  E   row   medium  40.0                0.0   \n",
      "8999   0.1342  E   row   medium  40.0                0.0   \n",
      "9004   0.2926  E   row   medium  40.0                0.0   \n",
      "9008   0.9760  E   row   medium  40.0                0.0   \n",
      "\n",
      "      Acc_x_discretized_mean  Acc_x_normalized  Acc_z_discretized  \\\n",
      "8986               -0.121508          0.066541                3.0   \n",
      "8988               -0.121508          0.071412                4.0   \n",
      "8999               -0.121508          0.073419                6.0   \n",
      "9004               -0.121508          0.066863                3.0   \n",
      "9008               -0.121508          0.067230                3.0   \n",
      "\n",
      "      Acc_z_discretized_mean  Acc_z_normalized  Gyro_z_discretized  \\\n",
      "8986               -0.106741          0.283233                 6.0   \n",
      "8988                0.006077          0.335649                 6.0   \n",
      "8999                0.255458          0.463846                 6.0   \n",
      "9004               -0.106741          0.289233                 6.0   \n",
      "9008               -0.106741          0.300284                 6.0   \n",
      "\n",
      "      Gyro_z_discretized_mean  Gyro_z_normalized  \n",
      "8986                 3.265069           0.499712  \n",
      "8988                 3.265069           0.482041  \n",
      "8999                 3.265069           0.496012  \n",
      "9004                 3.265069           0.496110  \n",
      "9008                 3.265069           0.496537  \n"
     ]
    }
   ],
   "source": [
    "# Discrétisation en intervalles de largeur égale\n",
    "data = discretize_equal_width(data, 'Gyro_z')\n",
    "\n",
    "# Remplacement par la moyenne des intervalles\n",
    "data = replace_with_interval_mean(data, 'Gyro_z')\n",
    "\n",
    "# Normalisation Min-Max\n",
    "data = min_max_normalize(data, 'Gyro_z')\n",
    "\n",
    "# Affichage du dataset mis à jour\n",
    "print(data.head())\n",
    "print(data.tail())\n"
   ]
  }
 ],
 "metadata": {
  "kernelspec": {
   "display_name": "Python 3",
   "language": "python",
   "name": "python3"
  },
  "language_info": {
   "codemirror_mode": {
    "name": "ipython",
    "version": 3
   },
   "file_extension": ".py",
   "mimetype": "text/x-python",
   "name": "python",
   "nbconvert_exporter": "python",
   "pygments_lexer": "ipython3",
   "version": "3.12.2"
  }
 },
 "nbformat": 4,
 "nbformat_minor": 2
}
