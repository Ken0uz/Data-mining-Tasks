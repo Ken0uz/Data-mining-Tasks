{
 "cells": [
  {
   "cell_type": "markdown",
   "metadata": {},
   "source": [
    "## Etape 1 : Pretraitement \n",
    "- elimination of th first 7 columns :\n",
    "    - car ces colonnes ne sont pas pertinentes pour identifier des transaction ou des items, car elles presentent des valeurs continues et non des entites ou des categories "
   ]
  },
  {
   "cell_type": "code",
   "execution_count": 1,
   "metadata": {},
   "outputs": [],
   "source": [
    "import pandas as pd\n",
    "from itertools import combinations\n",
    "from collections import defaultdict"
   ]
  },
  {
   "cell_type": "code",
   "execution_count": 2,
   "metadata": {},
   "outputs": [],
   "source": [
    "# Charger le dataset\n",
    "df = pd.read_csv(\"DatasetExos.csv\", sep=\";\")\n",
    "\n",
    "# 1. Éliminer les 7 premières colonnes\n",
    "df = df.drop(df.columns[:7], axis=1)\n"
   ]
  },
  {
   "cell_type": "code",
   "execution_count": 3,
   "metadata": {},
   "outputs": [
    {
     "name": "stdout",
     "output_type": "stream",
     "text": [
      "     ID  Label Category   Set\n",
      "0     B  bench    heavy  30.0\n",
      "1     B  bench    heavy  30.0\n",
      "2     B  bench    heavy  30.0\n",
      "3     B  bench    heavy  30.0\n",
      "4     B  bench    heavy  30.0\n",
      "...  ..    ...      ...   ...\n",
      "9004  E    row   medium  40.0\n",
      "9005  E    row   medium  40.0\n",
      "9006  E    row   medium  40.0\n",
      "9007  E    row   medium  40.0\n",
      "9008  E    row   medium  40.0\n",
      "\n",
      "[9009 rows x 4 columns]\n"
     ]
    }
   ],
   "source": [
    "print (df)"
   ]
  },
  {
   "cell_type": "markdown",
   "metadata": {},
   "source": [
    "Les transactions sont générées sous forme de tuples (Label, Category, Set) en regroupant les colonnes correspondantes. Chaque transaction représente une combinaison unique des items "
   ]
  },
  {
   "cell_type": "markdown",
   "metadata": {},
   "source": [
    "## Etape 2 : Identifier les transactions et les items\n",
    "Une Transaction correspond a une entite unique qui regroupe plusieurs items."
   ]
  },
  {
   "cell_type": "code",
   "execution_count": null,
   "metadata": {},
   "outputs": [
    {
     "name": "stdout",
     "output_type": "stream",
     "text": [
      "   ID  Label  Category   Set  count\n",
      "0   A  bench     heavy   5.0     72\n",
      "1   A  bench     heavy  74.0     62\n",
      "2   A  bench     heavy  86.0     83\n",
      "3   A  bench     heavy  88.0     62\n",
      "4   A   dead     heavy  48.0     81\n",
      ".. ..    ...       ...   ...    ...\n",
      "91  E    row    medium  53.0    106\n",
      "92  E    row    medium  63.0    106\n",
      "93  E  squat     heavy  15.0     98\n",
      "94  E  squat     heavy  73.0    103\n",
      "95  Z   rest  standing  19.0      1\n",
      "\n",
      "[96 rows x 5 columns]\n",
      "--------------------------------------------------------\n",
      "[('bench', 'heavy', 5.0), ('bench', 'heavy', 74.0), ('bench', 'heavy', 86.0), ('bench', 'heavy', 88.0), ('dead', 'heavy', 48.0), ('dead', 'medium', 11.0), ('dead', 'medium', 55.0), ('dead', 'medium', 75.0), ('ohp', 'heavy', 1.0), ('ohp', 'heavy', 10.0), ('ohp', 'heavy', 24.0), ('ohp', 'heavy', 38.0), ('ohp', 'heavy', 39.0), ('ohp', 'heavy', 58.0), ('ohp', 'heavy', 93.0), ('ohp', 'medium', 56.0), ('ohp', 'medium', 61.0), ('ohp', 'medium', 77.0), ('rest', 'sitting', 60.0), ('rest', 'sitting', 82.0), ('rest', 'standing', 23.0), ('rest', 'standing', 51.0), ('row', 'heavy', 20.0), ('row', 'heavy', 66.0), ('squat', 'heavy', 18.0), ('squat', 'heavy', 22.0), ('squat', 'heavy', 45.0), ('squat', 'medium', 9.0), ('squat', 'medium', 16.0), ('squat', 'medium', 41.0), ('bench', 'heavy', 30.0), ('bench', 'heavy', 83.0), ('ohp', 'heavy', 21.0), ('ohp', 'heavy', 52.0), ('ohp', 'heavy', 87.0), ('ohp', 'medium', 37.0), ('ohp', 'medium', 81.0), ('ohp', 'medium', 84.0), ('squat', 'medium', 26.0), ('bench', 'heavy', 33.0), ('bench', 'heavy', 72.0), ('bench', 'heavy', 92.0), ('dead', 'medium', 6.0), ('dead', 'medium', 68.0), ('dead', 'medium', 78.0), ('ohp', 'heavy', 28.0), ('ohp', 'heavy', 47.0), ('row', 'heavy', 35.0), ('row', 'heavy', 43.0), ('row', 'heavy', 54.0), ('row', 'heavy', 90.0), ('row', 'medium', 4.0), ('row', 'medium', 36.0), ('squat', 'heavy', 12.0), ('squat', 'heavy', 64.0), ('squat', 'heavy', 79.0), ('bench', 'medium', 29.0), ('bench', 'medium', 44.0), ('bench', 'medium', 85.0), ('raw', 'medium', 57.0), ('row', 'medium', -10.0), ('row', 'medium', 3.0), ('row', 'medium', 14.0), ('row', 'medium', 57.0), ('row', 'medium', 2000.0), ('squat', 'heavy', 17.0), ('squat', 'medium', 2.0), ('squat', 'medium', 70.0), ('bench', 'heavy', 7.0), ('bench', 'heavy', 62.0), ('bench', 'heavy', 67.0), ('bench', 'heavy', 80.0), ('bench', 'medium', 31.0), ('bench', 'medium', 34.0), ('bench', 'medium', 50.0), ('dead', 'heavy', 13.0), ('dead', 'medium', 1.0), ('dead', 'medium', 27.0), ('dead', 'medium', 69.0), ('ohp', 'heavy', 25.0), ('ohp', 'heavy', 71.0), ('ohp', 'heavy', 76.0), ('rest', 'sitting', 89.0), ('rest', 'standing', 19.0), ('row', 'heavy', 8.0), ('row', 'heavy', 42.0), ('row', 'heavy', 65.0), ('row', 'heavy', 91.0), ('row', 'medium', 32.0), ('row', 'medium', 40.0), ('row', 'medium', 49.0), ('row', 'medium', 53.0), ('row', 'medium', 63.0), ('squat', 'heavy', 15.0), ('squat', 'heavy', 73.0), ('rest', 'standing', 19.0)]\n"
     ]
    }
   ],
   "source": [
    "# 2. Prétraiter les données : créer une transaction par ID, catégorie, label et set\n",
    "\"\"\" Cette ligne crée un DataFrame ou chaque ligne est une \n",
    "combinaison unique de ID, Label, Category, et Set, accompagnée \n",
    "du nombre d'occurrences de cette c`ombinaison. \"\"\"\n",
    "\n",
    "transactions = df.groupby(['ID', 'Label', 'Category', 'Set']).size().reset_index(name='count')\n",
    "print (transactions)\n",
    "print(\"--------------------------------------------------------\")\n",
    "dataset = transactions.to_csv(\"dataset_exos_2.csv\")\n",
    "transactions = transactions[['Label', 'Category', 'Set']].apply(lambda x: tuple(x), axis=1).tolist()\n",
    "print (transactions)\n"
   ]
  },
  {
   "cell_type": "markdown",
   "metadata": {},
   "source": [
    "## Etape 3 : Compter les transactions et les items"
   ]
  },
  {
   "cell_type": "markdown",
   "metadata": {},
   "source": [
    "### Nombre de transactions\n",
    "nombre de combis uniques de ID et Set"
   ]
  },
  {
   "cell_type": "markdown",
   "metadata": {},
   "source": [
    "### Nombre d'items \n",
    "le nombre de combis uniques de label/Category"
   ]
  },
  {
   "cell_type": "code",
   "execution_count": 5,
   "metadata": {},
   "outputs": [
    {
     "name": "stdout",
     "output_type": "stream",
     "text": [
      "Nombre de transactions : 96\n",
      "Nombre d'items : 104\n"
     ]
    }
   ],
   "source": [
    "# 3. Nombre de transactions et d'items\n",
    "number_of_transactions = len(transactions)  # Taille de la liste des transactions\n",
    "items = set([item for transaction in transactions for item in transaction])  # Ensemble des items uniques\n",
    "number_of_items = len(items)  # Taille de l'ensemble des items\n",
    "\n",
    "# Affichage des résultats\n",
    "print(f\"Nombre de transactions : {number_of_transactions}\")\n",
    "print(f\"Nombre d'items : {number_of_items}\")\n"
   ]
  },
  {
   "cell_type": "markdown",
   "metadata": {},
   "source": [
    "## Etape 4 : Reformater le dataset en format transactionnel"
   ]
  },
  {
   "cell_type": "code",
   "execution_count": 6,
   "metadata": {},
   "outputs": [
    {
     "name": "stdout",
     "output_type": "stream",
     "text": [
      "\n",
      "Dataset reformatté en format transactionnel :\n",
      "   Transaction                 Items\n",
      "0            0   {heavy, 5.0, bench}\n",
      "1            1  {74.0, heavy, bench}\n",
      "2            2  {86.0, heavy, bench}\n",
      "3            3  {88.0, heavy, bench}\n",
      "4            4   {48.0, heavy, dead}\n",
      "\n",
      "Le dataset transactionnel 'DatasetExos_Transaction.csv' a été sauvegardé.\n"
     ]
    }
   ],
   "source": [
    "# Créer un DataFrame avec le format \"Transaction\" et \"Items\"\n",
    "df_transactional = pd.DataFrame({\n",
    "    'Transaction': range(len(transactions)),  # Génère des identifiants uniques pour chaque transaction\n",
    "    'Items': [set(transaction) for transaction in transactions]  # Transforme chaque transaction en set\n",
    "})\n",
    "\n",
    "# Afficher un aperçu du dataset reformatté\n",
    "print(\"\\nDataset reformatté en format transactionnel :\")\n",
    "print(df_transactional.head())\n",
    "\n",
    "# Sauvegarder le dataset en format CSV\n",
    "df_transactional.to_csv(\"DatasetExos_2.csv\", index=False)\n",
    "print(\"\\nLe dataset transactionnel 'DatasetExos_Transaction.csv' a été sauvegardé.\")\n"
   ]
  },
  {
   "cell_type": "markdown",
   "metadata": {},
   "source": [
    "### Duplications"
   ]
  },
  {
   "cell_type": "markdown",
   "metadata": {},
   "source": [
    "#### Doit-on conserver les répétitions ?\n",
    "- Dans le cadre d'extraction de Frequent Itemsets, les répétitions ne sont pas nécessaires.\n",
    "Les itemsets sont des ensembles, ce qui signifie que :\n",
    "\n",
    "- L'ordre n'importe pas (ex. {bench_heavy, squat_medium} est le même que {squat_medium, bench_heavy}).\n",
    "Les doublons ne sont pas comptés (ex. {bench_heavy, bench_heavy} devient {bench_heavy})."
   ]
  },
  {
   "cell_type": "code",
   "execution_count": 7,
   "metadata": {},
   "outputs": [
    {
     "name": "stdout",
     "output_type": "stream",
     "text": [
      "\n",
      "Items uniques et leur fréquence :\n",
      "Item: bench, Fréquence: 19\n",
      "Item: heavy, Fréquence: 49\n",
      "Item: 5.0, Fréquence: 1\n",
      "Item: 74.0, Fréquence: 1\n",
      "Item: 86.0, Fréquence: 1\n",
      "Item: 88.0, Fréquence: 1\n",
      "Item: dead, Fréquence: 11\n",
      "Item: 48.0, Fréquence: 1\n",
      "Item: medium, Fréquence: 40\n",
      "Item: 11.0, Fréquence: 1\n",
      "Item: 55.0, Fréquence: 1\n",
      "Item: 75.0, Fréquence: 1\n",
      "Item: ohp, Fréquence: 21\n",
      "Item: 1.0, Fréquence: 2\n",
      "Item: 10.0, Fréquence: 1\n",
      "Item: 24.0, Fréquence: 1\n",
      "Item: 38.0, Fréquence: 1\n",
      "Item: 39.0, Fréquence: 1\n",
      "Item: 58.0, Fréquence: 1\n",
      "Item: 93.0, Fréquence: 1\n",
      "Item: 56.0, Fréquence: 1\n",
      "Item: 61.0, Fréquence: 1\n",
      "Item: 77.0, Fréquence: 1\n",
      "Item: rest, Fréquence: 7\n",
      "Item: sitting, Fréquence: 3\n",
      "Item: 60.0, Fréquence: 1\n",
      "Item: 82.0, Fréquence: 1\n",
      "Item: standing, Fréquence: 4\n",
      "Item: 23.0, Fréquence: 1\n",
      "Item: 51.0, Fréquence: 1\n",
      "Item: row, Fréquence: 22\n",
      "Item: 20.0, Fréquence: 1\n",
      "Item: 66.0, Fréquence: 1\n",
      "Item: squat, Fréquence: 15\n",
      "Item: 18.0, Fréquence: 1\n",
      "Item: 22.0, Fréquence: 1\n",
      "Item: 45.0, Fréquence: 1\n",
      "Item: 9.0, Fréquence: 1\n",
      "Item: 16.0, Fréquence: 1\n",
      "Item: 41.0, Fréquence: 1\n",
      "Item: 30.0, Fréquence: 1\n",
      "Item: 83.0, Fréquence: 1\n",
      "Item: 21.0, Fréquence: 1\n",
      "Item: 52.0, Fréquence: 1\n",
      "Item: 87.0, Fréquence: 1\n",
      "Item: 37.0, Fréquence: 1\n",
      "Item: 81.0, Fréquence: 1\n",
      "Item: 84.0, Fréquence: 1\n",
      "Item: 26.0, Fréquence: 1\n",
      "Item: 33.0, Fréquence: 1\n",
      "Item: 72.0, Fréquence: 1\n",
      "Item: 92.0, Fréquence: 1\n",
      "Item: 6.0, Fréquence: 1\n",
      "Item: 68.0, Fréquence: 1\n",
      "Item: 78.0, Fréquence: 1\n",
      "Item: 28.0, Fréquence: 1\n",
      "Item: 47.0, Fréquence: 1\n",
      "Item: 35.0, Fréquence: 1\n",
      "Item: 43.0, Fréquence: 1\n",
      "Item: 54.0, Fréquence: 1\n",
      "Item: 90.0, Fréquence: 1\n",
      "Item: 4.0, Fréquence: 1\n",
      "Item: 36.0, Fréquence: 1\n",
      "Item: 12.0, Fréquence: 1\n",
      "Item: 64.0, Fréquence: 1\n",
      "Item: 79.0, Fréquence: 1\n",
      "Item: 29.0, Fréquence: 1\n",
      "Item: 44.0, Fréquence: 1\n",
      "Item: 85.0, Fréquence: 1\n",
      "Item: raw, Fréquence: 1\n",
      "Item: 57.0, Fréquence: 2\n",
      "Item: -10.0, Fréquence: 1\n",
      "Item: 3.0, Fréquence: 1\n",
      "Item: 14.0, Fréquence: 1\n",
      "Item: 2000.0, Fréquence: 1\n",
      "Item: 17.0, Fréquence: 1\n",
      "Item: 2.0, Fréquence: 1\n",
      "Item: 70.0, Fréquence: 1\n",
      "Item: 7.0, Fréquence: 1\n",
      "Item: 62.0, Fréquence: 1\n",
      "Item: 67.0, Fréquence: 1\n",
      "Item: 80.0, Fréquence: 1\n",
      "Item: 31.0, Fréquence: 1\n",
      "Item: 34.0, Fréquence: 1\n",
      "Item: 50.0, Fréquence: 1\n",
      "Item: 13.0, Fréquence: 1\n",
      "Item: 27.0, Fréquence: 1\n",
      "Item: 69.0, Fréquence: 1\n",
      "Item: 25.0, Fréquence: 1\n",
      "Item: 71.0, Fréquence: 1\n",
      "Item: 76.0, Fréquence: 1\n",
      "Item: 89.0, Fréquence: 1\n",
      "Item: 19.0, Fréquence: 2\n",
      "Item: 8.0, Fréquence: 1\n",
      "Item: 42.0, Fréquence: 1\n",
      "Item: 65.0, Fréquence: 1\n",
      "Item: 91.0, Fréquence: 1\n",
      "Item: 32.0, Fréquence: 1\n",
      "Item: 40.0, Fréquence: 1\n",
      "Item: 49.0, Fréquence: 1\n",
      "Item: 53.0, Fréquence: 1\n",
      "Item: 63.0, Fréquence: 1\n",
      "Item: 15.0, Fréquence: 1\n",
      "Item: 73.0, Fréquence: 1\n"
     ]
    }
   ],
   "source": [
    "from collections import Counter\n",
    "\n",
    "item_counts = Counter([item for transaction in transactions for item in transaction])\n",
    "print(\"\\nItems uniques et leur fréquence :\")\n",
    "for item, count in item_counts.items():\n",
    "    print(f\"Item: {item}, Fréquence: {count}\")\n"
   ]
  },
  {
   "cell_type": "markdown",
   "metadata": {},
   "source": [
    "## APRIORI"
   ]
  },
  {
   "cell_type": "markdown",
   "metadata": {},
   "source": [
    "### Les fonctions"
   ]
  },
  {
   "cell_type": "markdown",
   "metadata": {},
   "source": [
    "- Support(Itemset)= \n",
    "Nombre de transactions contenant l’itemset /Nombre total de transactions"
   ]
  },
  {
   "cell_type": "markdown",
   "metadata": {},
   "source": [
    "* Fonction pour générer 𝐶𝑘:"
   ]
  },
  {
   "cell_type": "code",
   "execution_count": 8,
   "metadata": {},
   "outputs": [],
   "source": [
    "# Fonction pour générer les candidats k-itemsets\n",
    "def generate_k_itemsets(Lk, k):\n",
    "    # Générer tous les candidats k-itemsets parmi les itemsets fréquents\n",
    "    candidates = list(combinations(Lk, k))\n",
    "    return candidates"
   ]
  },
  {
   "cell_type": "markdown",
   "metadata": {},
   "source": [
    "* Fonction pour calculer le support de 𝐶𝑘:\n",
    "\n",
    "Vérifie pour chaque k-itemset combien de transactions contiennent tous les items."
   ]
  },
  {
   "cell_type": "code",
   "execution_count": 9,
   "metadata": {},
   "outputs": [],
   "source": [
    "# Fonction pour calculer le support d'un itemset\n",
    "def calculate_support(k_itemset, transactions):\n",
    "    count = sum(1 for t in transactions if set(k_itemset).issubset(set(t)))\n",
    "    return count / len(transactions)"
   ]
  },
  {
   "cell_type": "markdown",
   "metadata": {},
   "source": [
    "* Fonction pour extraire 𝐿𝑘:  \n",
    "    Filtre les k-itemsets fréquents selon supp min.\n"
   ]
  },
  {
   "cell_type": "code",
   "execution_count": 10,
   "metadata": {},
   "outputs": [],
   "source": [
    "# Fonction pour générer les itemsets fréquents Lk\n",
    "def generate_frequent_k_itemsets(Ck, transactions, supp_min):\n",
    "    Lk = [itemset for itemset in Ck if calculate_support(itemset, transactions) >= supp_min]\n",
    "    return Lk"
   ]
  },
  {
   "cell_type": "markdown",
   "metadata": {},
   "source": [
    "### ++ "
   ]
  },
  {
   "cell_type": "code",
   "execution_count": 11,
   "metadata": {},
   "outputs": [],
   "source": [
    "def display_candidates(Ck, transactions):\n",
    "    print(f\"\\nCandidats (C{len(Ck[0])}-itemsets) :\")\n",
    "    for itemset in Ck:\n",
    "        support = calculate_support(itemset, transactions)\n",
    "        print(f\"Itemset: {itemset}, Support: {support:.2f}\")\n"
   ]
  },
  {
   "cell_type": "code",
   "execution_count": 12,
   "metadata": {},
   "outputs": [],
   "source": [
    "def display_frequent_itemsets(Lk, transactions):\n",
    "    print(f\"\\nItemsets fréquents (L{len(Lk[0])}-itemsets) :\")\n",
    "    for itemset in Lk:\n",
    "        support = calculate_support(itemset, transactions)\n",
    "        print(f\"Itemset: {itemset}, Support: {support:.2f}\")\n"
   ]
  },
  {
   "cell_type": "markdown",
   "metadata": {},
   "source": [
    "## Confidence"
   ]
  },
  {
   "cell_type": "markdown",
   "metadata": {},
   "source": [
    "* 1- Generer toutes les regles d'association pour un itemset frequent"
   ]
  },
  {
   "cell_type": "code",
   "execution_count": null,
   "metadata": {},
   "outputs": [],
   "source": [
    "# Fonction pour générer toutes les règles d'association à partir d'un itemset Lk\n",
    "def generate_association_rules(Lk):\n",
    "    rules = []\n",
    "    for itemset in Lk:\n",
    "        for k in range(1, len(itemset)):\n",
    "            antecedents = combinations(itemset, k)\n",
    "            for antecedent in antecedents:\n",
    "                consequent = tuple(sorted(set(itemset) - set(antecedent)))\n",
    "                if consequent:\n",
    "                    rules.append((set(antecedent), set(consequent)))\n",
    "    return rules"
   ]
  },
  {
   "cell_type": "markdown",
   "metadata": {},
   "source": [
    "* 2- Calculer la confiance d'une regle d'association"
   ]
  },
  {
   "cell_type": "code",
   "execution_count": 14,
   "metadata": {},
   "outputs": [],
   "source": [
    "# Fonction pour calculer la confiance d'une règle d'association\n",
    "def calculate_confidence(rule, transactions):\n",
    "    antecedent, consequent = rule\n",
    "    support_A_union_B = calculate_support(list(antecedent) + list(consequent), transactions)\n",
    "    support_A = calculate_support(list(antecedent), transactions)\n",
    "    return support_A_union_B / support_A if support_A != 0 else 0"
   ]
  },
  {
   "cell_type": "markdown",
   "metadata": {},
   "source": [
    "* Utilisation des fonctions"
   ]
  },
  {
   "cell_type": "code",
   "execution_count": 15,
   "metadata": {},
   "outputs": [],
   "source": [
    "# Paramètres\n",
    "supp_min = 0.1  # Support minimum\n",
    "conf_min = 0.1  # Confiance minimum\n",
    "\n",
    "# Étape 1 : Générer C1 (candidats 1-itemset)\n",
    "items = set([item for transaction in transactions for item in transaction])  # Tous les items uniques\n",
    "C1 = list(items)"
   ]
  },
  {
   "cell_type": "code",
   "execution_count": 16,
   "metadata": {},
   "outputs": [
    {
     "name": "stdout",
     "output_type": "stream",
     "text": [
      "Frequent 1-itemsets (L1): ['bench', 'dead', 'ohp', 'medium', 'row', 'heavy', 'squat']\n",
      "--------------------------------------------------------------------------------------\n",
      "Support(bench): 0.19791666666666666\n",
      "Support(dead): 0.11458333333333333\n",
      "Support(ohp): 0.21875\n",
      "Support(medium): 0.4166666666666667\n",
      "Support(row): 0.22916666666666666\n",
      "Support(heavy): 0.5104166666666666\n",
      "Support(squat): 0.15625\n"
     ]
    }
   ],
   "source": [
    "# Étape 2 : Calculer les L1 (items fréquents 1-itemset)\n",
    "L1 = [item for item in C1 if calculate_support([item], transactions) >= supp_min]\n",
    "print(f\"Frequent 1-itemsets (L1): {L1}\")\n",
    "print(\"--------------------------------------------------------------------------------------\")\n",
    "# Affichage du support pour chaque L1\n",
    "for item in L1:\n",
    "    print(f\"Support({item}): {calculate_support([item], transactions)}\")"
   ]
  },
  {
   "cell_type": "code",
   "execution_count": 17,
   "metadata": {},
   "outputs": [
    {
     "name": "stdout",
     "output_type": "stream",
     "text": [
      "\n",
      "Frequent 2-itemsets (L2): [('bench', 'heavy'), ('ohp', 'heavy'), ('medium', 'row'), ('row', 'heavy')]\n",
      "--------------------------------------------------------------------------------------\n",
      "Support(('bench', 'heavy')): 0.13541666666666666\n",
      "Support(('ohp', 'heavy')): 0.15625\n",
      "Support(('medium', 'row')): 0.125\n",
      "Support(('row', 'heavy')): 0.10416666666666667\n"
     ]
    }
   ],
   "source": [
    "# Étape 3 : Générer C2 (candidats 2-itemsets)\n",
    "C2 = generate_k_itemsets(L1, 2)\n",
    "\n",
    "# Étape 4 : Calculer les L2 (itemsets fréquents 2-itemset)\n",
    "L2 = generate_frequent_k_itemsets(C2, transactions, supp_min)\n",
    "print(f\"\\nFrequent 2-itemsets (L2): {L2}\")\n",
    "print(\"--------------------------------------------------------------------------------------\")\n",
    "\n",
    "# Affichage du support pour chaque L2\n",
    "for itemset in L2:\n",
    "    print(f\"Support({itemset}): {calculate_support(itemset, transactions)}\")"
   ]
  },
  {
   "cell_type": "code",
   "execution_count": 18,
   "metadata": {},
   "outputs": [
    {
     "name": "stdout",
     "output_type": "stream",
     "text": [
      "\n",
      "Candidats (C2-itemsets) :\n",
      "Itemset: ('bench', 'dead'), Support: 0.00\n",
      "Itemset: ('bench', 'ohp'), Support: 0.00\n",
      "Itemset: ('bench', 'medium'), Support: 0.06\n",
      "Itemset: ('bench', 'row'), Support: 0.00\n",
      "Itemset: ('bench', 'heavy'), Support: 0.14\n",
      "Itemset: ('bench', 'squat'), Support: 0.00\n",
      "Itemset: ('dead', 'ohp'), Support: 0.00\n",
      "Itemset: ('dead', 'medium'), Support: 0.09\n",
      "Itemset: ('dead', 'row'), Support: 0.00\n",
      "Itemset: ('dead', 'heavy'), Support: 0.02\n",
      "Itemset: ('dead', 'squat'), Support: 0.00\n",
      "Itemset: ('ohp', 'medium'), Support: 0.06\n",
      "Itemset: ('ohp', 'row'), Support: 0.00\n",
      "Itemset: ('ohp', 'heavy'), Support: 0.16\n",
      "Itemset: ('ohp', 'squat'), Support: 0.00\n",
      "Itemset: ('medium', 'row'), Support: 0.12\n",
      "Itemset: ('medium', 'heavy'), Support: 0.00\n",
      "Itemset: ('medium', 'squat'), Support: 0.06\n",
      "Itemset: ('row', 'heavy'), Support: 0.10\n",
      "Itemset: ('row', 'squat'), Support: 0.00\n",
      "Itemset: ('heavy', 'squat'), Support: 0.09\n",
      "\n",
      "Itemsets fréquents (L2-itemsets) :\n",
      "Itemset: ('bench', 'heavy'), Support: 0.14\n",
      "Itemset: ('ohp', 'heavy'), Support: 0.16\n",
      "Itemset: ('medium', 'row'), Support: 0.12\n",
      "Itemset: ('row', 'heavy'), Support: 0.10\n"
     ]
    }
   ],
   "source": [
    "display_candidates(C2, transactions)\n",
    "display_frequent_itemsets(L2, transactions)"
   ]
  },
  {
   "cell_type": "code",
   "execution_count": 19,
   "metadata": {},
   "outputs": [
    {
     "name": "stdout",
     "output_type": "stream",
     "text": [
      "\n",
      "Frequent 3-itemsets (L3): []\n"
     ]
    }
   ],
   "source": [
    "# Étape 5 : Générer C3 (candidats 3-itemsets)\n",
    "C3 = generate_k_itemsets(L2, 3)\n",
    "\n",
    "# Étape 6 : Calculer les L3 (itemsets fréquents 3-itemset)\n",
    "L3 = generate_frequent_k_itemsets(C3, transactions, supp_min)\n",
    "print(f\"\\nFrequent 3-itemsets (L3): {L3}\")\n",
    "\n",
    "# Affichage du support pour chaque L3\n",
    "for itemset in L3:\n",
    "    print(f\"Support({itemset}): {calculate_support(itemset, transactions)}\")"
   ]
  },
  {
   "cell_type": "code",
   "execution_count": 20,
   "metadata": {},
   "outputs": [],
   "source": [
    "import matplotlib.pyplot as plt\n",
    "\n",
    "def plot_itemset_supports(Lk, transactions):\n",
    "    itemsets = [' & '.join(itemset) for itemset in Lk]\n",
    "    supports = [calculate_support(itemset, transactions) for itemset in Lk]\n",
    "    \n",
    "    plt.barh(itemsets, supports, color='skyblue')\n",
    "    plt.xlabel('Support')\n",
    "    plt.ylabel('Itemsets')\n",
    "    plt.title(f'Support des {len(Lk[0])}-itemsets fréquents')\n",
    "    plt.show()\n"
   ]
  },
  {
   "cell_type": "code",
   "execution_count": 21,
   "metadata": {},
   "outputs": [
    {
     "data": {
      "image/png": "[encoded data removed]",
      "text/plain": [
       "<Figure size 640x480 with 1 Axes>"
      ]
     },
     "metadata": {},
     "output_type": "display_data"
    }
   ],
   "source": [
    "plot_itemset_supports(L2, transactions)"
   ]
  },
  {
   "cell_type": "code",
   "execution_count": 22,
   "metadata": {},
   "outputs": [
    {
     "name": "stdout",
     "output_type": "stream",
     "text": [
      "-----------------------------------------------\n",
      "\n",
      "Règle d'association : {'bench'} ⇒ {'heavy'}\n",
      "Confiance: 0.6842105263157895\n",
      "-----------------------------------------------\n",
      "\n",
      "Règle d'association : {'heavy'} ⇒ {'bench'}\n",
      "Confiance: 0.2653061224489796\n",
      "-----------------------------------------------\n",
      "\n",
      "Règle d'association : {'ohp'} ⇒ {'heavy'}\n",
      "Confiance: 0.7142857142857143\n",
      "-----------------------------------------------\n",
      "\n",
      "Règle d'association : {'heavy'} ⇒ {'ohp'}\n",
      "Confiance: 0.30612244897959184\n",
      "-----------------------------------------------\n",
      "\n",
      "Règle d'association : {'medium'} ⇒ {'row'}\n",
      "Confiance: 0.3\n",
      "-----------------------------------------------\n",
      "\n",
      "Règle d'association : {'row'} ⇒ {'medium'}\n",
      "Confiance: 0.5454545454545455\n",
      "-----------------------------------------------\n",
      "\n",
      "Règle d'association : {'row'} ⇒ {'heavy'}\n",
      "Confiance: 0.4545454545454546\n",
      "-----------------------------------------------\n",
      "\n",
      "Règle d'association : {'heavy'} ⇒ {'row'}\n",
      "Confiance: 0.20408163265306126\n"
     ]
    }
   ],
   "source": [
    "# Étape 7 : Générer les règles d'association à partir des Lk fréquents\n",
    "rules_L2 = generate_association_rules(L2)\n",
    "\n",
    "# Calculer la confiance pour chaque règle\n",
    "for rule in rules_L2:\n",
    "    conf = calculate_confidence(rule, transactions)\n",
    "    if conf >= conf_min:\n",
    "        print(\"-----------------------------------------------\")\n",
    "        print(f\"\\nRègle d'association : {rule[0]} ⇒ {rule[1]}\")\n",
    "        print(f\"Confiance: {conf}\")\n"
   ]
  },
  {
   "cell_type": "code",
   "execution_count": 23,
   "metadata": {},
   "outputs": [
    {
     "name": "stdout",
     "output_type": "stream",
     "text": [
      "\n",
      "Règles d'association (filtrées par confiance) :\n",
      "  Antécédent Conséquent   Support  Confiance\n",
      "0      bench      heavy  0.135417   0.684211\n",
      "1      heavy      bench  0.135417   0.265306\n",
      "2        ohp      heavy  0.156250   0.714286\n",
      "3      heavy        ohp  0.156250   0.306122\n",
      "4     medium        row  0.125000   0.300000\n",
      "5        row     medium  0.125000   0.545455\n",
      "6        row      heavy  0.104167   0.454545\n",
      "7      heavy        row  0.104167   0.204082\n"
     ]
    }
   ],
   "source": [
    "import pandas as pd\n",
    "\n",
    "def display_rules(rules, transactions, conf_min):\n",
    "    data = []\n",
    "    for rule in rules:\n",
    "        antecedent, consequent = rule\n",
    "        confidence = calculate_confidence(rule, transactions)\n",
    "        if confidence >= conf_min:\n",
    "            support = calculate_support(list(antecedent) + list(consequent), transactions)\n",
    "            data.append({\n",
    "                'Antécédent': ', '.join(antecedent),\n",
    "                'Conséquent': ', '.join(consequent),\n",
    "                'Support': support,\n",
    "                'Confiance': confidence\n",
    "            })\n",
    "    \n",
    "    df_rules = pd.DataFrame(data)\n",
    "    print(\"\\nRègles d'association (filtrées par confiance) :\")\n",
    "    print(df_rules)\n",
    "\n",
    "display_rules(rules_L2, transactions, conf_min)\n"
   ]
  },
  {
   "cell_type": "code",
   "execution_count": 24,
   "metadata": {},
   "outputs": [
    {
     "name": "stdout",
     "output_type": "stream",
     "text": [
      "\n",
      "Résumé final :\n",
      "Nombre total de transactions : 96\n",
      "Nombre de candidats (C1) : 104\n",
      "Nombre d'itemsets fréquents (L1) : 7\n",
      "Nombre de règles générées : 8\n"
     ]
    }
   ],
   "source": [
    "print(\"\\nRésumé final :\")\n",
    "print(f\"Nombre total de transactions : {len(transactions)}\")\n",
    "print(f\"Nombre de candidats (C1) : {len(C1)}\")\n",
    "print(f\"Nombre d'itemsets fréquents (L1) : {len(L1)}\")\n",
    "print(f\"Nombre de règles générées : {len(rules_L2)}\")\n"
   ]
  },
  {
   "cell_type": "markdown",
   "metadata": {},
   "source": [
    "## Confirmer les resultats avec Mlxtend"
   ]
  },
  {
   "cell_type": "code",
   "execution_count": 28,
   "metadata": {},
   "outputs": [
    {
     "name": "stdout",
     "output_type": "stream",
     "text": [
      "Exemple de transactions après conversion en chaînes :\n",
      "[['bench', 'heavy', '5.0'], ['bench', 'heavy', '74.0'], ['bench', 'heavy', '86.0'], ['bench', 'heavy', '88.0'], ['dead', 'heavy', '48.0']]\n",
      "\n",
      "Itemsets fréquents:\n",
      "     support        itemsets\n",
      "0   0.197917         (bench)\n",
      "1   0.114583          (dead)\n",
      "2   0.510417         (heavy)\n",
      "3   0.416667        (medium)\n",
      "4   0.218750           (ohp)\n",
      "5   0.229167           (row)\n",
      "6   0.156250         (squat)\n",
      "7   0.135417  (heavy, bench)\n",
      "8   0.156250    (heavy, ohp)\n",
      "9   0.104167    (row, heavy)\n",
      "10  0.125000   (row, medium)\n",
      "\n",
      "Règles d'association:\n",
      "Règle: {'heavy'} => {'bench'}\n",
      "Confiance: 0.2653061224489796\n",
      "Support: 0.13541666666666666\n",
      "----------------------------------------\n",
      "Règle: {'bench'} => {'heavy'}\n",
      "Confiance: 0.6842105263157895\n",
      "Support: 0.13541666666666666\n",
      "----------------------------------------\n",
      "Règle: {'heavy'} => {'ohp'}\n",
      "Confiance: 0.30612244897959184\n",
      "Support: 0.15625\n",
      "----------------------------------------\n",
      "Règle: {'ohp'} => {'heavy'}\n",
      "Confiance: 0.7142857142857143\n",
      "Support: 0.15625\n",
      "----------------------------------------\n",
      "Règle: {'row'} => {'heavy'}\n",
      "Confiance: 0.4545454545454546\n",
      "Support: 0.10416666666666667\n",
      "----------------------------------------\n",
      "Règle: {'heavy'} => {'row'}\n",
      "Confiance: 0.20408163265306126\n",
      "Support: 0.10416666666666667\n",
      "----------------------------------------\n",
      "Règle: {'row'} => {'medium'}\n",
      "Confiance: 0.5454545454545455\n",
      "Support: 0.125\n",
      "----------------------------------------\n",
      "Règle: {'medium'} => {'row'}\n",
      "Confiance: 0.3\n",
      "Support: 0.125\n",
      "----------------------------------------\n"
     ]
    }
   ],
   "source": [
    "import pandas as pd\n",
    "from mlxtend.preprocessing import TransactionEncoder\n",
    "from mlxtend.frequent_patterns import apriori, association_rules\n",
    "\n",
    "# Charger le dataset\n",
    "df = pd.read_csv(\"DatasetExos.csv\", sep=\";\")\n",
    "\n",
    "# 1. Éliminer les 7 premières colonnes\n",
    "df = df.drop(df.columns[:7], axis=1)\n",
    "\n",
    "# 2. Prétraiter les données : créer une transaction par ID, catégorie, label et set\n",
    "transactions = df.groupby(['ID', 'Label', 'Category', 'Set']).size().reset_index(name='count')\n",
    "transactions = transactions[['Label', 'Category', 'Set']].apply(lambda x: tuple(x), axis=1).tolist()\n",
    "\n",
    "# Convertir chaque élément des transactions en chaîne de caractères\n",
    "transactions = [[str(item) for item in transaction] for transaction in transactions]\n",
    "\n",
    "# Affichage des transactions après conversion\n",
    "print(\"Exemple de transactions après conversion en chaînes :\")\n",
    "print(transactions[:5])\n",
    "\n",
    "# 3. Convertir les transactions en une forme compatible avec mlxtend (TransactionEncoder)\n",
    "te = TransactionEncoder()\n",
    "te_ary = te.fit(transactions).transform(transactions)\n",
    "\n",
    "# Convertir en DataFrame\n",
    "df_bin = pd.DataFrame(te_ary, columns=te.columns_)\n",
    "\n",
    "# 4. Appliquer l'algorithme Apriori pour générer les itemsets fréquents\n",
    "min_support = 0.1\n",
    "frequent_itemsets = apriori(df_bin, min_support=min_support, use_colnames=True)\n",
    "\n",
    "# Affichage des itemsets fréquents\n",
    "print(\"\\nItemsets fréquents:\")\n",
    "print(frequent_itemsets)\n",
    "\n",
    "# 5. Générer les règles d'association à partir des itemsets fréquents\n",
    "min_confidence = 0.1\n",
    "rules = association_rules(frequent_itemsets, metric=\"confidence\", min_threshold=min_confidence)\n",
    "\n",
    "# Affichage des règles d'association\n",
    "print(\"\\nRègles d'association:\")\n",
    "for index, row in rules.iterrows():\n",
    "    print(f\"Règle: {set(row['antecedents'])} => {set(row['consequents'])}\")\n",
    "    print(f\"Confiance: {row['confidence']}\")\n",
    "    print(f\"Support: {row['support']}\")\n",
    "    #print(f\"Lift: {row['lift']}\")\n",
    "    print(\"-\" * 40)\n"
   ]
  }
 ],
 "metadata": {
  "kernelspec": {
   "display_name": "Python 3",
   "language": "python",
   "name": "python3"
  },
  "language_info": {
   "codemirror_mode": {
    "name": "ipython",
    "version": 3
   },
   "file_extension": ".py",
   "mimetype": "text/x-python",
   "name": "python",
   "nbconvert_exporter": "python",
   "pygments_lexer": "ipython3",
   "version": "3.12.2"
  }
 },
 "nbformat": 4,
 "nbformat_minor": 2
}
